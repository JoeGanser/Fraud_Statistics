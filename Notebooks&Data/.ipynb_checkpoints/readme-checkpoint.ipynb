{
 "cells": [
  {
   "cell_type": "markdown",
   "metadata": {},
   "source": [
    "## Predicting Fraud and other crimes across the USA - State by State\n",
    "\n",
    "March 2019\n",
    "\n",
    "By Joe Ganser"
   ]
  },
  {
   "cell_type": "markdown",
   "metadata": {},
   "source": [
    "**Abstract**\n",
    "\n",
    "In this research, a model is made that estimates the number of crimes of various types committed in each state, and calculates the probability of a citizen comitting a given type of crime for each state. The focus is on fraud crimes. The model uses arrest statistics for various crimes in each town of each American state, and aggregates them to make conclusions about the larger population. The model is validated by examining how it estimates the frequency in which arrests are made for other crimes. This project was constructed in Python 3."
   ]
  },
  {
   "cell_type": "markdown",
   "metadata": {},
   "source": [
    "**Contents**\n",
    "\n",
    "1. **<a href='#intro'>Introducing the data</a>**\n",
    "2. **<a href='#goals'>Problem statement & Goals of this analysis</a>**\n",
    "3. **<a href='#model'>Model Construction and theory</a>**\n",
    "    * <a href='#math'>3.A Mathematical formula</a>\n",
    "    * <a href='#code'>3.B Model Code in python</a>\n",
    "4. **<a href='#key'>Key Results</a>**\n",
    "    * <a href='#4A'>4.A Validating that the model produces realistic results</a>\n",
    "    * <a href='#4B'>4.B Identifying states with the lowest rate of fraud</a>\n",
    "    * <a href='#4C'>4.C Nationwide Heatmap reperesentations</a>\n",
    "    * <a href='#4D'>4.D Overall crime Distributions</a>\n",
    "5. **<a href='#conclusions'>Conclusions</a>**\n",
    "5. **<a href='#notebooks'>Links to coded notebooks</a>**\n",
    "6. **<a href='#References'>References</a>**"
   ]
  },
  {
   "cell_type": "markdown",
   "metadata": {},
   "source": [
    "<div id='intro'></div>"
   ]
  },
  {
   "cell_type": "markdown",
   "metadata": {},
   "source": [
    "# **1. Introducing the data**\n",
    "\n",
    "The data used for this analysis was based upon crime stats reported to the FBI in 2015. Before cleaning it had 5874 rows, where each row represented a town. After cleaning, 3664 rows (towns) were left distributed across 37 US states. This covered a population of 60 million citizens, and 54 different types of crimes.\n",
    "\n",
    "The cleaned, model ready data had the following structure;"
   ]
  },
  {
   "cell_type": "markdown",
   "metadata": {},
   "source": [
    "states|Town|Population|Intimidation|HomicideOffenses|Murder andNonnegligentManslaughter|NegligentMan-slaughter|JustifiableHomicide|HumanTraffickingOffenses|CommercialSex Acts|InvoluntaryServitude|Kidnapping/Abduction|SexOffenses|Rape|Sodomy|SexualAssaultWith anObject|Fondling|SexOffenses,Non-forcible|Incest|StatutoryRape|Arson|Bribery|Burglary/Breaking &Entering|Counter-feiting/Forgery|Destruction/Damage/Vandalismof Property|Embezzle-ment|Extortion/Blackmail|FraudOffenses|FalsePretenses/Swindle/ConfidenceGame|CreditCard/AutomatedTellerMachineFraud|Imper-sonation|WelfareFraud|WireFraud|Larceny/TheftOffenses|Pocket-picking|Purse-snatching|Shop-lifting|TheftFromBuilding|TheftFromCoin Op-eratedMachineor Device|TheftFromMotorVehicle|Theft of Motor VehicleParts orAcces-sories|AllOtherLarceny|MotorVehicleTheft|Robbery|StolenPropertyOffenses|Drug/NarcoticOffenses|Drug/NarcoticViolations|DrugEquipmentViolations|GamblingOffenses|Betting/Wagering|Operating/Promoting/AssistingGambling|GamblingEquipmentViolations|SportsTampering|Por-nography/ObsceneMaterial|Pros-titutionOffenses|Pros-titution|Assisting orPromotingProstitution|PurchasingProstitution|WeaponLawViolations|total_crimes\n",
    "---|---|---|---|---|---|---|---|---|---|---|---|---|---|---|---|---|---|---|---|---|---|---|---|---|---|---|---|---|---|---|---|---|---|---|---|---|---|---|---|---|---|---|---|---|---|---|---|---|---|---|---|---|---|---|---|---|---|---|---\n",
    "ALABAMA|Hoover|85163.0|52.0|539.0|201.0|3.0|3.0|0.0|0.0|0.0|0.0|0.0|3.0|32.0|17.0|6.0|0.0|9.0|0.0|0.0|0.0|0.0|306.0|63.0|231.0|54.0|0.0|353.0|43.0|199.0|111.0|0.0|0.0|2085.0|3.0|1.0|917.0|348.0|0.0|471.0|101.0|244.0|76.0|51.0|28.0|334.0|148.0|0.0|0.0|0.0|0.0|0.0|7.0|15.0|15.0|0.0|0.0|45.0|7114.0\n",
    "ARIZONA|Apache Junction|38519.0|82.0|345.0|64.0|0.0|0.0|0.0|0.0|0.0|0.0|0.0|3.0|48.0|2.0|0.0|1.0|45.0|2.0|0.0|2.0|0.0|352.0|29.0|528.0|0.0|0.0|159.0|65.0|32.0|62.0|0.0|0.0|848.0|0.0|0.0|336.0|10.0|0.0|99.0|22.0|381.0|102.0|11.0|10.0|155.0|166.0|0.0|0.0|0.0|0.0|0.0|4.0|10.0|0.0|10.0|0.0|37.0|4022.0\n",
    "ARIZONA|Gilbert|247324.0|121.0|846.0|202.0|4.0|2.0|1.0|1.0|0.0|0.0|0.0|48.0|78.0|27.0|1.0|0.0|50.0|20.0|0.0|20.0|0.0|519.0|82.0|1592.0|18.0|6.0|589.0|162.0|149.0|278.0|0.0|0.0|2650.0|1.0|3.0|832.0|96.0|0.0|751.0|64.0|903.0|137.0|32.0|76.0|701.0|845.0|0.0|0.0|0.0|0.0|0.0|13.0|11.0|10.0|1.0|0.0|46.0|11988.0\n",
    "ARIZONA|Yuma|93923.0|330.0|668.0|167.0|6.0|5.0|1.0|0.0|0.0|0.0|0.0|33.0|105.0|35.0|10.0|1.0|59.0|11.0|0.0|11.0|1.0|680.0|37.0|1713.0|19.0|3.0|588.0|278.0|122.0|176.0|0.0|12.0|2087.0|5.0|5.0|752.0|101.0|23.0|344.0|115.0|742.0|270.0|75.0|22.0|467.0|573.0|0.0|0.0|0.0|0.0|0.0|13.0|0.0|0.0|0.0|0.0|74.0|10739.0\n",
    "ARKANSAS|Alma|5581.0|16.0|129.0|84.0|0.0|0.0|0.0|0.0|0.0|0.0|0.0|2.0|6.0|1.0|5.0|0.0|0.0|0.0|0.0|0.0|0.0|35.0|10.0|85.0|0.0|0.0|24.0|0.0|15.0|8.0|0.0|1.0|227.0|1.0|1.0|64.0|17.0|0.0|34.0|2.0|108.0|6.0|2.0|5.0|18.0|6.0|0.0|0.0|0.0|0.0|0.0|1.0|1.0|1.0|0.0|0.0|4.0|919.0"
   ]
  },
  {
   "cell_type": "markdown",
   "metadata": {},
   "source": [
    "Aside from `states`,`town`,`Population`,`total_crimes`, each column represents the number of arrests made for the given crime in that town in the year of 2015."
   ]
  },
  {
   "cell_type": "markdown",
   "metadata": {},
   "source": [
    "<div id='goals'></div>"
   ]
  },
  {
   "cell_type": "markdown",
   "metadata": {},
   "source": [
    "# **2. Problem Statement  & Goals of the Analysis**\n",
    "\n",
    "\n",
    "The goal is to make a deicison as to which states have the lowest probability of someone comitting a fraudulent act. This allows for insurance companies to make marketing decisions on which states to work with so they minimize their risks. The problem is calculating the probability of a person comitting fraud from each state.\n",
    "\n",
    "The general approach behind the model is one that is mathematically based, integrating basic probability theorems. No machine learning is needed to solve this problem, and and it would be surprising if anyone used it.\n",
    "\n",
    "There are several goals;\n",
    "\n",
    "1. Create a model to produces the probability of a person in a given state comitting fraud\n",
    "2. Rank states by probability of a citizen comitting fraud (find the lowest 5)\n",
    "3. Visualize a heatmaps of crime distributions\n",
    "4. Estimate and validate the rate at which arrests are made for crimes.\n",
    "    - And compare it to known rates (e.g. credit card fraud)."
   ]
  },
  {
   "cell_type": "markdown",
   "metadata": {},
   "source": [
    "<div id='model'></div>"
   ]
  },
  {
   "cell_type": "markdown",
   "metadata": {},
   "source": [
    "# **3. Model Construction and theory**\n",
    "\n",
    "The model used in this analysis is based upon probability theory and making estimations of how many crimes of a given type their are in each town of each state. Then, all the estimates for each town are summed to find the total for the given state. After that, this number is divided by the number of people in the state (all the towns studied) to find the probability of the given crime per person.\n",
    "\n",
    "**Mathematical Construction**\n",
    "\n",
    "The derivation begins with Baye's theorem;"
   ]
  },
  {
   "cell_type": "markdown",
   "metadata": {},
   "source": [
    "![one](images/1.png)"
   ]
  },
  {
   "cell_type": "markdown",
   "metadata": {},
   "source": [
    "This says the the probability of fraud (or any crime) depends upon the Baye's relation of the probability of fraud given the distribution of other crimes.\n",
    "\n",
    "Because a fraud by definition is a crime, the probability of an event being a crime being a fraud is one, i.e."
   ]
  },
  {
   "cell_type": "markdown",
   "metadata": {},
   "source": [
    "![two](images/2.png)"
   ]
  },
  {
   "cell_type": "markdown",
   "metadata": {},
   "source": [
    "So this leads to;"
   ]
  },
  {
   "cell_type": "markdown",
   "metadata": {},
   "source": [
    "![three](images/3.png)"
   ]
  },
  {
   "cell_type": "markdown",
   "metadata": {},
   "source": [
    "And if we give the definitions;"
   ]
  },
  {
   "cell_type": "markdown",
   "metadata": {},
   "source": [
    "![four](images/4.png)\n",
    "![five](images/5.png)"
   ]
  },
  {
   "cell_type": "markdown",
   "metadata": {},
   "source": [
    "Therefor;"
   ]
  },
  {
   "cell_type": "markdown",
   "metadata": {},
   "source": [
    "![six](images/6.png)"
   ]
  },
  {
   "cell_type": "markdown",
   "metadata": {},
   "source": [
    "Where N_population is the number of people in the population studied. By what is the actual number of frauds? Is is just the number of arrests? We assume the actual number of frauds in existence exceeds the number of arrests for fraud;"
   ]
  },
  {
   "cell_type": "markdown",
   "metadata": {},
   "source": [
    "![seven](images/7.png)"
   ]
  },
  {
   "cell_type": "markdown",
   "metadata": {},
   "source": [
    "We focus on calculating the actual number of frauds in each town. Using the records of arrests for other crimes in the town, we sum them all up with a weighting system. i.e."
   ]
  },
  {
   "cell_type": "markdown",
   "metadata": {},
   "source": [
    "![eight](images/8.png)"
   ]
  },
  {
   "cell_type": "markdown",
   "metadata": {},
   "source": [
    "Now the critical portion of the model comes into play - calculating the weights. The weights are calculated using the correlation coefficients of each other crime with the fraud crime we're studying"
   ]
  },
  {
   "cell_type": "markdown",
   "metadata": {},
   "source": [
    "![nine](images/9.png)"
   ]
  },
  {
   "cell_type": "markdown",
   "metadata": {},
   "source": [
    "So we have a threshold for the correlation. This means that we set the weight equal to the correlation between a given crime and fraud if its greater than a threshold value, and set it equal to zero if its not.\n",
    "\n",
    "Now that an estimation is made for the number of frauds in a given town, we sum over all the towns in the state. To find the probability of fraud per person, we simply divide by the population of the state."
   ]
  },
  {
   "cell_type": "markdown",
   "metadata": {},
   "source": [
    "<div id='math'></div>"
   ]
  },
  {
   "cell_type": "markdown",
   "metadata": {},
   "source": [
    "![ten](images/10.png)"
   ]
  },
  {
   "cell_type": "markdown",
   "metadata": {},
   "source": [
    "Where N_est,t is the estimated number of frauds in town t. This model can also be used estimate over all frequency at which arrests are made for crimes. This is done as follows.\n",
    "\n",
    "First we sum over all the estimated number of frauds for all the towns in the USA;"
   ]
  },
  {
   "cell_type": "markdown",
   "metadata": {},
   "source": [
    "![eleven](images/11.png)"
   ]
  },
  {
   "cell_type": "markdown",
   "metadata": {},
   "source": [
    "Then we sum over all the arrests for frauds, nationwide."
   ]
  },
  {
   "cell_type": "markdown",
   "metadata": {},
   "source": [
    "![twelve](images/12.png)"
   ]
  },
  {
   "cell_type": "markdown",
   "metadata": {},
   "source": [
    "And the probability is then;"
   ]
  },
  {
   "cell_type": "markdown",
   "metadata": {},
   "source": [
    "![thirteen](images/13.png)"
   ]
  },
  {
   "cell_type": "markdown",
   "metadata": {},
   "source": [
    "Which is the probability of making arrest for a given fraud (or other crime). \n",
    "\n",
    "We'd expect the probability of an arrest made for a credit card fraud to be very low and the probability of an arrest for murder (its not a fraud, but thats ok) to be the highest. We shall see the model produces these results."
   ]
  },
  {
   "cell_type": "markdown",
   "metadata": {},
   "source": [
    "<div id='code'></div>"
   ]
  },
  {
   "cell_type": "markdown",
   "metadata": {},
   "source": [
    "**Model Code in Python**\n",
    "\n",
    "The model code is built into a function. It's input is the cleaned data, the crimes we want to study and a threshhold correlation coefficient. The ouput is a dataframe and the nationwide rate (probability) at which arrests are made for the given crime."
   ]
  },
  {
   "cell_type": "code",
   "execution_count": null,
   "metadata": {},
   "outputs": [],
   "source": [
    "def model(data,fraud_crimes,threshold):\n",
    "    df = data.copy()\n",
    "    import warnings\n",
    "    import numpy as np\n",
    "    warnings.filterwarnings('ignore')\n",
    "    states = df['states'].unique() \n",
    "    #group all the fraud crimes together\n",
    "    if len(fraud_crimes)>1:\n",
    "        df['fraud_count'] = df[fraud_crimes].sum(axis=1)\n",
    "        df.drop(fraud_crimes,axis=1,inplace=True)\n",
    "    else:\n",
    "        df['fraud_count'] = df[fraud_crimes[0]]\n",
    "        df.drop(fraud_crimes,axis=1,inplace=True)\n",
    "        \n",
    "        \n",
    "    combined_frame = pd.DataFrame()\n",
    "    \n",
    "    #loop over each state\n",
    "    for state in states:\n",
    "        dummy_frame = df[df['states']==state]\n",
    "        #if the number of towns in the state is greater than the total number of crimes in the dataset (56),\n",
    "        #use the correlation coefficients of each crime for only that state\n",
    "        if len(dummy_frame)>=56:\n",
    "            correlations = pd.DataFrame(dummy_frame.corr()['fraud_count']).reset_index()\n",
    "            correlations['fraud_count'] = correlations['fraud_count'].apply(lambda x: x if x>=threshold else 0)\n",
    "            correlations['crime'] = correlations['index'].apply(lambda x: 1 if x in crimes+['fraud'] else 0)\n",
    "            correlations = correlations[correlations['crime']==1].drop('crime',axis=1)\n",
    "            for i in correlations.index:\n",
    "                factor = correlations.loc[i]['fraud_count']\n",
    "                feature = correlations.loc[i]['index']\n",
    "                if feature not in ['total_crimes','fraud_count']:\n",
    "                    dummy_frame[feature] = dummy_frame[feature].apply(lambda x: factor*x)\n",
    "    \n",
    "        elif len(dummy_frame)<56:\n",
    "        #if the state has less than 56, use the correlation coefficients for the entire country\n",
    "        #to calculate the weights.\n",
    "            correlations = pd.DataFrame(df.corr()['fraud_count']).reset_index()\n",
    "            correlations['fraud_count'] = correlations['fraud_count'].apply(lambda x: x if x>=threshold else 0)\n",
    "            correlations['crime'] = correlations['index'].apply(lambda x: 1 if x in crimes+['fraud'] else 0)\n",
    "            correlations = correlations[correlations['crime']==1].drop('crime',axis=1)\n",
    "        \n",
    "        for i in correlations.index:\n",
    "            factor = correlations.loc[i]['fraud_count']\n",
    "            feature = correlations.loc[i]['index']\n",
    "            if feature not in ['total_crimes','fraud_count']:\n",
    "                dummy_frame[feature] = dummy_frame[feature].apply(lambda x: factor*x)\n",
    "        combined_frame = pd.concat([combined_frame,dummy_frame],axis=0)\n",
    "    \n",
    "    model_groupby = combined_frame.groupby('states').sum().reset_index()\n",
    "    model_groupby_crimes = [i for i in model_groupby.columns if i not in ['states','Population1','total_crimes']]\n",
    "    model_groupby['est.Frauds'] = model_groupby[model_groupby_crimes].sum(axis=1)\n",
    "    model_groupby['%est.Caught'] = model_groupby['fraud_count'].div(model_groupby['est.Frauds'],axis=0).multiply(100)\n",
    "    model_groupby = model_groupby[['states','Population1','total_crimes','fraud_count','est.Frauds','%est.Caught']]\n",
    "    model_groupby['fraud_prob'] = model_groupby['est.Frauds'].div(model_groupby['Population1'],axis=0)\n",
    "    model_groupby.sort_values(by='fraud_prob',ascending=True,inplace=True)\n",
    "    \n",
    "    model_groupby = model_groupby[['states','fraud_prob','Population1','total_crimes','fraud_count','est.Frauds','%est.Caught']]\n",
    "    model_groupby = model_groupby.reset_index().drop('index',axis=1)\n",
    "    \n",
    "    \n",
    "    nation_wide_arrests = model_groupby['fraud_count'].sum()\n",
    "    nation_wide_estimates = model_groupby['est.Frauds'].sum()\n",
    "    percent_caught = round(100*nation_wide_arrests/nation_wide_estimates,2)\n",
    "    \n",
    "    print('crimes analzed: ',fraud_crimes)\n",
    "    print('Nation wide % of crimes where arrests are made',percent_caught,'%')\n",
    "    print('Nation wide arrests :',round(nation_wide_arrests))\n",
    "    print('Nation wide estimate number of crimes: ',round(nation_wide_estimates))\n",
    "    return model_groupby"
   ]
  },
  {
   "cell_type": "markdown",
   "metadata": {},
   "source": [
    "<div id='key'></div>"
   ]
  },
  {
   "cell_type": "markdown",
   "metadata": {},
   "source": [
    "## **4. Key Results**"
   ]
  },
  {
   "cell_type": "markdown",
   "metadata": {},
   "source": [
    "The main objective was to find the states with the lowest rate of fraud instances. To solve this problem, all fraud related crimes in the data were aggregated together to be represented as one crime. These crimes included the following labels in the data;\n",
    "\n",
    "* `FraudOffenses`\n",
    "* `FalsePretenses/Swindle/ConfidenceGame`\n",
    "* `CreditCard/AutomatedTellerMachineFraud`\n",
    "* `Imper-sonation`\n",
    "* `WelfareFraud`\n",
    "* `WireFraud`\n",
    "* `Counter-feiting/Forgery`\n",
    "\n",
    "*Throughout this analysis, any time a 'fraud crime' is referred to, it referrs to a person comitting any of these crimes.*\n",
    "\n",
    "Nationwide, it was found that about 15.78% of these crimes (aggregated) led to an arrest. There were a total of 796,374 fraud related arrests in the USA in 2015, recorded from a population of 60.2million residents."
   ]
  },
  {
   "cell_type": "markdown",
   "metadata": {},
   "source": [
    "<div id='4A'></div>"
   ]
  },
  {
   "cell_type": "markdown",
   "metadata": {},
   "source": [
    "**4.A Validating the model**\n",
    "\n",
    "Any useful model should produce results that are realistic. How could can this model be evaluated to determine if it's a good fit? In this case, we use the predicted rate at which arrests are made for varying crimes to see if it's realistic.\n",
    "\n",
    "It's widely known that credit card fraud goes un-caught quite often. This model predicts that only about 2.3% of domestic credit card fraud crimes lead to an arrest. Other sources predict less than 1%, but regardless this is probability a realistic estimate. (Reference 2)"
   ]
  },
  {
   "cell_type": "markdown",
   "metadata": {},
   "source": [
    "<div id='4B'></div>"
   ]
  },
  {
   "cell_type": "markdown",
   "metadata": {},
   "source": [
    "**4.B Identifying states with the lowest rate of fraud**\n",
    "\n",
    "In the following table, we see the ranking of the states with the lowest probability of a person comitting a fraudulent act (one of the crimes in the listing above). We also see the estimated percentage for which arrests are made for these crimes."
   ]
  },
  {
   "cell_type": "markdown",
   "metadata": {},
   "source": [
    "rank|state|fraud probability|%est.Caught\n",
    "---|---|---|---\n",
    "1|CONNECTICUT|0.0346|25.32\n",
    "2|MASSACHUSETTS|0.0458|19.31\n",
    "3|PENNSYLVANIA|0.0461|21.65\n",
    "4|VERMONT|0.0463|12.88\n",
    "5|RHODE ISLAND|0.0568|17.86"
   ]
  },
  {
   "cell_type": "markdown",
   "metadata": {},
   "source": [
    "<div id='4C'></div>"
   ]
  },
  {
   "cell_type": "markdown",
   "metadata": {},
   "source": [
    "**4.C Nationwide heatmap representations**\n",
    "\n",
    "In the following plots, we see nationwide heatmaps of some interesting statistics. In the first, we have a distribution of the probability of a person comitting fraud from each state. If a state is white, it was not present in the data set. These are plotly plots, so click each graph for better interactivity!"
   ]
  },
  {
   "cell_type": "markdown",
   "metadata": {},
   "source": [
    "<a href='https://plot.ly/~JKGProfessional/2.embed'>![heatmap_prob_fraud](images/Probability_by_state.png)</a>"
   ]
  },
  {
   "cell_type": "markdown",
   "metadata": {},
   "source": [
    "In this next plot, we see an estimation on the percentage at which fraud crimes lead to an arrest."
   ]
  },
  {
   "cell_type": "markdown",
   "metadata": {},
   "source": [
    "<a href='https://plot.ly/~JKGProfessional/4.embed?share_key=NSm60isOxosbLahLCexOPo'>![caughtbystate](images/caught_by_state.png)</a>"
   ]
  },
  {
   "cell_type": "markdown",
   "metadata": {},
   "source": [
    "And in this last heat plot, we have the probability of a person in each state comitting any crime."
   ]
  },
  {
   "cell_type": "markdown",
   "metadata": {},
   "source": [
    "<a href='https://plot.ly/~JKGProfessional/6.embed'>![prob_crime_per_person](images/probability_of_crime_per_person.png)</a>"
   ]
  },
  {
   "cell_type": "markdown",
   "metadata": {},
   "source": [
    "<div id='4D'></div>"
   ]
  },
  {
   "cell_type": "markdown",
   "metadata": {},
   "source": [
    "**4.D Overall Distribution of crimes and frauds**\n",
    "\n",
    "It's also good to see the overall distribution of crimes that were recorded, as well as the break down of frauds. These can be represented by bar charts and pie charts. Keep in mind these numbers were extracted from a population of 60.1Million people.\n",
    "\n",
    "In this next chart, we have the counts of each type of crime recorded in the data set. The max count of a crime was 1.29 million arrests, which was for Pocket-picking. Out of the 60.1 million people included in the data, there were 5.7 million arrests."
   ]
  },
  {
   "cell_type": "markdown",
   "metadata": {},
   "source": [
    "<a href='https://plot.ly/~JKGProfessional/13.embed'>![bar](images/bar_chart.png)</a>"
   ]
  },
  {
   "cell_type": "markdown",
   "metadata": {},
   "source": [
    "And finally, we have a pie chart break down of the different types of frauds present. There were a total of 796,374 arrests for fraud related crimes (about 14% of all crimes)."
   ]
  },
  {
   "cell_type": "markdown",
   "metadata": {},
   "source": [
    "<a href='https://plot.ly/~JKGProfessional/15.embed'>![pie](images/pie_chart.png)</a>"
   ]
  },
  {
   "cell_type": "markdown",
   "metadata": {},
   "source": [
    "<div id='conclusions'></div>"
   ]
  },
  {
   "cell_type": "markdown",
   "metadata": {},
   "source": [
    "# 5. Conclusions\n",
    "\n",
    "Using the model and the data we can draw a few conclusions;\n",
    "\n",
    "* The states with the lowest chance of someone comitting a fraud crime are (3-5%)\n",
    "    1. CONNECTICUT\n",
    "    2. MASSACHUSETTS\n",
    "    3. PENNSYLVANIA\n",
    "    4. VERMONT\n",
    "    5. RHODE ISLAND\n",
    "* It was noticed that these states also had higher rates of arrests for fraud crimes (13-25% of cases lead to an arrest)\n",
    "* Crime rates were also low in these states to (5-6%)\n",
    "* The probability of a person comitting a fraud crime varies from (3% to 17%) across the USA\n",
    "* The top five types of frauds that people get arrested for are\n",
    "    * Counterfitting (38.9%)\n",
    "    * Swindling (30.8%)\n",
    "    * Credit card fraud (11%)\n",
    "    * Wellfare fraud (10.3%)\n",
    "    * Impersonation (8.78%)\n",
    "* Fraud crimes consist of about 14% of all crimes.\n",
    "* About 2.3% of credit card frauds lead to an arrest."
   ]
  },
  {
   "cell_type": "markdown",
   "metadata": {},
   "source": [
    "### 6. Links to Coded Notebooks\n",
    "\n",
    "* <a href='https://github.com/JoeGanser/Fraud_Statistics/blob/master/Notebooks%26Data/Data_Cleaning.ipynb'>Cleaning the data</a>\n",
    "* <a href='https://github.com/JoeGanser/Fraud_Statistics/blob/master/Notebooks%26Data/Data_Model.ipynb'>Modelling the data</a>\n",
    "* <a href='https://github.com/JoeGanser/Fraud_Statistics/blob/master/Notebooks%26Data/Heatmaps.ipynb'>Nationwide heatmaps</a>\n",
    "* <a href='https://github.com/JoeGanser/Fraud_Statistics/blob/master/Notebooks%26Data/Bar_Chart.ipynb'>Bar charts</a>\n",
    "* <a href='https://github.com/JoeGanser/Fraud_Statistics/blob/master/Notebooks%26Data/PieChart.ipynb'>Pie chart</a>\n",
    "* <a href='https://github.com/JoeGanser/Fraud_Statistics/blob/master/Notebooks%26Data/API.ipynb'>API usage</a>"
   ]
  },
  {
   "cell_type": "markdown",
   "metadata": {},
   "source": [
    "### 7. Sources\n",
    "* <a href='https://crime-data-explorer.fr.cloud.gov/api'>(1) FBI api&data source</a>\n",
    "* <a href='http://scambusters.org/identitythieves.html'>(2) Stats on credit card fraud</a>\n",
    "* <a href='https://plot.ly'>(3) Plotly</a>"
   ]
  },
  {
   "cell_type": "code",
   "execution_count": null,
   "metadata": {},
   "outputs": [],
   "source": []
  }
 ],
 "metadata": {
  "kernelspec": {
   "display_name": "Python 3",
   "language": "python",
   "name": "python3"
  },
  "language_info": {
   "codemirror_mode": {
    "name": "ipython",
    "version": 3
   },
   "file_extension": ".py",
   "mimetype": "text/x-python",
   "name": "python",
   "nbconvert_exporter": "python",
   "pygments_lexer": "ipython3",
   "version": "3.6.7"
  }
 },
 "nbformat": 4,
 "nbformat_minor": 2
}
