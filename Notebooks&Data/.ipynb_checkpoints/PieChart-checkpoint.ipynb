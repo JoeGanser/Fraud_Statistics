{
 "cells": [
  {
   "cell_type": "code",
   "execution_count": 2,
   "metadata": {},
   "outputs": [
    {
     "data": {
      "text/plain": [
       "Credit Card/ Automated Teller Machine Fraud    69914.0\n",
       "Imper- sonation                                81633.0\n",
       "Welfare Fraud                                    369.0\n",
       "Wire Fraud                                      5309.0\n",
       "False Pretenses/ Swindle/ Confidence Game      87951.0\n",
       "Counter- feiting/ Forgery                      57607.0\n",
       "dtype: float64"
      ]
     },
     "execution_count": 2,
     "metadata": {},
     "output_type": "execute_result"
    }
   ],
   "source": [
    "import pandas as pd\n",
    "\n",
    "df = pd.read_csv('data_cleaned.csv',index_col=0)\n",
    "numerical_cols = [i for i in df.columns if i not in ['states','City']]\n",
    "df[numerical_cols] = df[numerical_cols].applymap(lambda x: float(x))\n",
    "frauds = ['Credit Card/ Automated Teller Machine Fraud', 'Imper- sonation',\n",
    "       'Welfare Fraud', 'Wire Fraud','False Pretenses/ Swindle/ Confidence Game','Counter- feiting/ Forgery']\n",
    "df1 = df[frauds].sum()\n",
    "df1"
   ]
  },
  {
   "cell_type": "markdown",
   "metadata": {},
   "source": [
    "Total number of crimes"
   ]
  },
  {
   "cell_type": "code",
   "execution_count": 3,
   "metadata": {},
   "outputs": [
    {
     "data": {
      "text/plain": [
       "4106936.0"
      ]
     },
     "execution_count": 3,
     "metadata": {},
     "output_type": "execute_result"
    }
   ],
   "source": [
    "df['total_crimes'].sum()"
   ]
  },
  {
   "cell_type": "markdown",
   "metadata": {},
   "source": [
    "Total number of frauds"
   ]
  },
  {
   "cell_type": "code",
   "execution_count": 6,
   "metadata": {},
   "outputs": [
    {
     "data": {
      "text/plain": [
       "302783"
      ]
     },
     "execution_count": 6,
     "metadata": {},
     "output_type": "execute_result"
    }
   ],
   "source": [
    "total_frauds = int(df1.sum())\n",
    "total_frauds"
   ]
  },
  {
   "cell_type": "markdown",
   "metadata": {},
   "source": [
    "Percentage of crimes attributed to fraud"
   ]
  },
  {
   "cell_type": "code",
   "execution_count": 7,
   "metadata": {},
   "outputs": [
    {
     "data": {
      "text/plain": [
       "7.372479142601686"
      ]
     },
     "execution_count": 7,
     "metadata": {},
     "output_type": "execute_result"
    }
   ],
   "source": [
    "100*total_frauds/df['total_crimes'].sum()"
   ]
  },
  {
   "cell_type": "code",
   "execution_count": 11,
   "metadata": {},
   "outputs": [
    {
     "data": {
      "text/html": [
       "<iframe id=\"igraph\" scrolling=\"no\" style=\"border:none;\" seamless=\"seamless\" src=\"https://plot.ly/~JKGProfessional/15.embed\" height=\"525px\" width=\"100%\"></iframe>"
      ],
      "text/plain": [
       "<plotly.tools.PlotlyDisplay object>"
      ]
     },
     "execution_count": 11,
     "metadata": {},
     "output_type": "execute_result"
    }
   ],
   "source": [
    "import plotly.plotly as py\n",
    "import plotly.graph_objs as go\n",
    "from plotly_api_key import plotly_api_key\n",
    "import plotly\n",
    "plotly.tools.set_credentials_file(username='JKGProfessional', api_key=plotly_api_key)\n",
    "\n",
    "\n",
    "\n",
    "labels = list(df1.index)\n",
    "values = list(df1)\n",
    "\n",
    "data1 = [go.Pie(labels=labels, values=values)]\n",
    "\n",
    "    \n",
    "layout1 = go.Layout(\n",
    "    title = go.layout.Title(text = 'Distribution of Fraud Crimes across the entire USA in 2015'))\n",
    "    \n",
    "fig = go.Figure(data=data1, layout=layout1)\n",
    "\n",
    "plotly.offline.plot(fig, filename='basic_pie_chart.html',include_plotlyjs=True, output_type='div')\n",
    "py.iplot(fig, filename='basic_pie_chart')"
   ]
  },
  {
   "cell_type": "code",
   "execution_count": null,
   "metadata": {},
   "outputs": [],
   "source": []
  }
 ],
 "metadata": {
  "kernelspec": {
   "display_name": "Python 3",
   "language": "python",
   "name": "python3"
  },
  "language_info": {
   "codemirror_mode": {
    "name": "ipython",
    "version": 3
   },
   "file_extension": ".py",
   "mimetype": "text/x-python",
   "name": "python",
   "nbconvert_exporter": "python",
   "pygments_lexer": "ipython3",
   "version": "3.6.7"
  }
 },
 "nbformat": 4,
 "nbformat_minor": 2
}
