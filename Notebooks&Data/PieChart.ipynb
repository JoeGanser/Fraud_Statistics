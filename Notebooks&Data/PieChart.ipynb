{
 "cells": [
  {
   "cell_type": "code",
   "execution_count": 28,
   "metadata": {},
   "outputs": [
    {
     "data": {
      "text/plain": [
       "FraudOffenses                               1415.0\n",
       "FalsePretenses/Swindle/ConfidenceGame     245176.0\n",
       "CreditCard/AutomatedTellerMachineFraud     87951.0\n",
       "Imper-sonation                             69914.0\n",
       "WelfareFraud                               81633.0\n",
       "WireFraud                                    369.0\n",
       "Counter-feiting/Forgery                   309916.0\n",
       "dtype: float64"
      ]
     },
     "execution_count": 28,
     "metadata": {},
     "output_type": "execute_result"
    }
   ],
   "source": [
    "import pandas as pd\n",
    "\n",
    "df = pd.read_csv('data_cleaned.csv',index_col=0)\n",
    "numerical_cols = [i for i in df.columns if i not in ['states','Agency Name']]\n",
    "df[numerical_cols] = df[numerical_cols].applymap(lambda x: float(x))\n",
    "frauds = ['FraudOffenses','FalsePretenses/Swindle/ConfidenceGame','CreditCard/AutomatedTellerMachineFraud',\n",
    "'Imper-sonation','WelfareFraud','WireFraud','Counter-feiting/Forgery']\n",
    "df1 = df[frauds].sum()\n",
    "df1"
   ]
  },
  {
   "cell_type": "markdown",
   "metadata": {},
   "source": [
    "Total number of crimes"
   ]
  },
  {
   "cell_type": "code",
   "execution_count": 31,
   "metadata": {},
   "outputs": [
    {
     "data": {
      "text/plain": [
       "5693147.0"
      ]
     },
     "execution_count": 31,
     "metadata": {},
     "output_type": "execute_result"
    }
   ],
   "source": [
    "df['total_crimes'].sum()"
   ]
  },
  {
   "cell_type": "markdown",
   "metadata": {},
   "source": [
    "Total number of frauds"
   ]
  },
  {
   "cell_type": "code",
   "execution_count": 33,
   "metadata": {},
   "outputs": [
    {
     "data": {
      "text/plain": [
       "796374"
      ]
     },
     "execution_count": 33,
     "metadata": {},
     "output_type": "execute_result"
    }
   ],
   "source": [
    "int(df1.sum())"
   ]
  },
  {
   "cell_type": "markdown",
   "metadata": {},
   "source": [
    "Percentage of crimes attributed to fraud"
   ]
  },
  {
   "cell_type": "code",
   "execution_count": 35,
   "metadata": {},
   "outputs": [
    {
     "data": {
      "text/plain": [
       "13.988291537176188"
      ]
     },
     "execution_count": 35,
     "metadata": {},
     "output_type": "execute_result"
    }
   ],
   "source": [
    "100*total_frauds/df['total_crimes'].sum()"
   ]
  },
  {
   "cell_type": "code",
   "execution_count": 25,
   "metadata": {},
   "outputs": [
    {
     "data": {
      "text/html": [
       "<iframe id=\"igraph\" scrolling=\"no\" style=\"border:none;\" seamless=\"seamless\" src=\"https://plot.ly/~JKGProfessional/15.embed\" height=\"525px\" width=\"100%\"></iframe>"
      ],
      "text/plain": [
       "<plotly.tools.PlotlyDisplay object>"
      ]
     },
     "execution_count": 25,
     "metadata": {},
     "output_type": "execute_result"
    }
   ],
   "source": [
    "import plotly.plotly as py\n",
    "import plotly.graph_objs as go\n",
    "\n",
    "\n",
    "labels = list(df.index)\n",
    "values = list(df)\n",
    "\n",
    "data1 = [go.Pie(labels=labels, values=values)]\n",
    "\n",
    "    \n",
    "layout1 = go.Layout(\n",
    "    title = go.layout.Title(text = 'Distribution of Fraud Crimes across the entire USA in 2015'))\n",
    "    \n",
    "fig = go.Figure(data=data1, layout=layout1)\n",
    "\n",
    "plotly.offline.plot(fig, filename='basic_pie_chart.html',include_plotlyjs=True, output_type='div')\n",
    "py.iplot(fig, filename='basic_pie_chart')"
   ]
  },
  {
   "cell_type": "code",
   "execution_count": null,
   "metadata": {},
   "outputs": [],
   "source": []
  }
 ],
 "metadata": {
  "kernelspec": {
   "display_name": "Python 3",
   "language": "python",
   "name": "python3"
  },
  "language_info": {
   "codemirror_mode": {
    "name": "ipython",
    "version": 3
   },
   "file_extension": ".py",
   "mimetype": "text/x-python",
   "name": "python",
   "nbconvert_exporter": "python",
   "pygments_lexer": "ipython3",
   "version": "3.6.7"
  }
 },
 "nbformat": 4,
 "nbformat_minor": 2
}
