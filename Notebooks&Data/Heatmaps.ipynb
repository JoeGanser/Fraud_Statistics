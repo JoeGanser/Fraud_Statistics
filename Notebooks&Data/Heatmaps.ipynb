{
 "cells": [
  {
   "cell_type": "markdown",
   "metadata": {},
   "source": [
    "This notebook is dedicated to building the heatmaps in Plotly"
   ]
  },
  {
   "cell_type": "code",
   "execution_count": 1,
   "metadata": {},
   "outputs": [
    {
     "data": {
      "text/html": [
       "<div>\n",
       "<style scoped>\n",
       "    .dataframe tbody tr th:only-of-type {\n",
       "        vertical-align: middle;\n",
       "    }\n",
       "\n",
       "    .dataframe tbody tr th {\n",
       "        vertical-align: top;\n",
       "    }\n",
       "\n",
       "    .dataframe thead th {\n",
       "        text-align: right;\n",
       "    }\n",
       "</style>\n",
       "<table border=\"1\" class=\"dataframe\">\n",
       "  <thead>\n",
       "    <tr style=\"text-align: right;\">\n",
       "      <th></th>\n",
       "      <th>states</th>\n",
       "      <th>fraud_prob</th>\n",
       "      <th>Population1</th>\n",
       "      <th>total_crimes</th>\n",
       "      <th>fraud_count</th>\n",
       "      <th>est.Frauds</th>\n",
       "      <th>%est.Caught</th>\n",
       "      <th>crime_prob</th>\n",
       "      <th>state_code</th>\n",
       "      <th>text</th>\n",
       "    </tr>\n",
       "  </thead>\n",
       "  <tbody>\n",
       "    <tr>\n",
       "      <th>0</th>\n",
       "      <td>CONNECTICUT</td>\n",
       "      <td>0.03465</td>\n",
       "      <td>2131967</td>\n",
       "      <td>109857</td>\n",
       "      <td>18701</td>\n",
       "      <td>73864</td>\n",
       "      <td>25.32</td>\n",
       "      <td>0.05153</td>\n",
       "      <td>CT</td>\n",
       "      <td>CONNECTICUT&lt;br&gt;Population studied: 2131967&lt;br&gt;...</td>\n",
       "    </tr>\n",
       "    <tr>\n",
       "      <th>1</th>\n",
       "      <td>MASSACHUSETTS</td>\n",
       "      <td>0.04588</td>\n",
       "      <td>5589329</td>\n",
       "      <td>307121</td>\n",
       "      <td>49528</td>\n",
       "      <td>256453</td>\n",
       "      <td>19.31</td>\n",
       "      <td>0.05495</td>\n",
       "      <td>MA</td>\n",
       "      <td>MASSACHUSETTS&lt;br&gt;Population studied: 5589329&lt;b...</td>\n",
       "    </tr>\n",
       "    <tr>\n",
       "      <th>2</th>\n",
       "      <td>PENNSYLVANIA</td>\n",
       "      <td>0.04607</td>\n",
       "      <td>192011</td>\n",
       "      <td>9866</td>\n",
       "      <td>1915</td>\n",
       "      <td>8845</td>\n",
       "      <td>21.65</td>\n",
       "      <td>0.05138</td>\n",
       "      <td>PA</td>\n",
       "      <td>PENNSYLVANIA&lt;br&gt;Population studied: 192011&lt;br&gt;...</td>\n",
       "    </tr>\n",
       "    <tr>\n",
       "      <th>3</th>\n",
       "      <td>VERMONT</td>\n",
       "      <td>0.04634</td>\n",
       "      <td>356298</td>\n",
       "      <td>18126</td>\n",
       "      <td>2127</td>\n",
       "      <td>16510</td>\n",
       "      <td>12.88</td>\n",
       "      <td>0.05087</td>\n",
       "      <td>VT</td>\n",
       "      <td>VERMONT&lt;br&gt;Population studied: 356298&lt;br&gt;Total...</td>\n",
       "    </tr>\n",
       "    <tr>\n",
       "      <th>4</th>\n",
       "      <td>RHODE ISLAND</td>\n",
       "      <td>0.05682</td>\n",
       "      <td>1074282</td>\n",
       "      <td>66958</td>\n",
       "      <td>10899</td>\n",
       "      <td>61040</td>\n",
       "      <td>17.86</td>\n",
       "      <td>0.06233</td>\n",
       "      <td>RI</td>\n",
       "      <td>RHODE ISLAND&lt;br&gt;Population studied: 1074282&lt;br...</td>\n",
       "    </tr>\n",
       "  </tbody>\n",
       "</table>\n",
       "</div>"
      ],
      "text/plain": [
       "          states fraud_prob Population1 total_crimes fraud_count est.Frauds  \\\n",
       "0    CONNECTICUT    0.03465     2131967       109857       18701      73864   \n",
       "1  MASSACHUSETTS    0.04588     5589329       307121       49528     256453   \n",
       "2   PENNSYLVANIA    0.04607      192011         9866        1915       8845   \n",
       "3        VERMONT    0.04634      356298        18126        2127      16510   \n",
       "4   RHODE ISLAND    0.05682     1074282        66958       10899      61040   \n",
       "\n",
       "  %est.Caught crime_prob state_code  \\\n",
       "0       25.32    0.05153         CT   \n",
       "1       19.31    0.05495         MA   \n",
       "2       21.65    0.05138         PA   \n",
       "3       12.88    0.05087         VT   \n",
       "4       17.86    0.06233         RI   \n",
       "\n",
       "                                                text  \n",
       "0  CONNECTICUT<br>Population studied: 2131967<br>...  \n",
       "1  MASSACHUSETTS<br>Population studied: 5589329<b...  \n",
       "2  PENNSYLVANIA<br>Population studied: 192011<br>...  \n",
       "3  VERMONT<br>Population studied: 356298<br>Total...  \n",
       "4  RHODE ISLAND<br>Population studied: 1074282<br...  "
      ]
     },
     "execution_count": 1,
     "metadata": {},
     "output_type": "execute_result"
    }
   ],
   "source": [
    "import pandas as pd\n",
    "\n",
    "df = pd.read_csv('results.csv',index_col=0)\n",
    "states_code = {'Alabama': 'AL','Alaska': 'AK','Arizona': 'AZ','Arkansas': 'AR','California': 'CA','Colorado': 'CO',\n",
    " 'Connecticut': 'CT','Delaware': 'DE','Florida': 'FL','Georgia': 'GA','Hawaii': 'HI','Idaho': 'ID','Illinois': 'IL',\n",
    "'Indiana': 'IN','Iowa': 'IA','Kansas': 'KS','Kentucky': 'KY','Louisiana': 'LA','Maine': 'ME','Maryland': 'MD','Massachusetts': 'MA',\n",
    "'Michigan': 'MI','Minnesota': 'MN','Mississippi': 'MS','Missouri': 'MO','Montana': 'MT','Nebraska': 'NE','Nevada': 'NV',\n",
    " 'New Hampshire': 'NH','New Jersey': 'NJ','New Mexico': 'NM','New York': 'NY','North Carolina': 'NC','North Dakota': 'ND',\n",
    " 'Ohio': 'OH','Oklahoma': 'OK','Oregon': 'OR','Pennsylvania': 'PA','Rhode Island': 'RI','South Carolina': 'SC',\n",
    " 'South Dakota': 'SD','Tennessee': 'TN','Texas': 'TX','Utah': 'UT','Vermont': 'VT','Virginia': 'VA','Washington': 'WA',\n",
    " 'West Virginia': 'WV','Wisconsin': 'WI','Wyoming': 'WY'}\n",
    "\n",
    "\n",
    "df['fraud_prob'] = df['fraud_prob'].apply(lambda x: round(x,5))\n",
    "df['%est.Caught'] = df['%est.Caught'].apply(lambda x: round(x,2))\n",
    "df['crime_prob'] = df['total_crimes'].div(df['Population1'],axis=0)\n",
    "df['crime_prob'] = df['crime_prob'].apply(lambda x: round(x,5))\n",
    "for c in ['est.Frauds','total_crimes','Population1','fraud_count']:\n",
    "    df[c] = df[c].apply(lambda x: int(x))\n",
    "    \n",
    "\n",
    "df['state_code'] = df['states'].apply(lambda x: states_code[x.title()])\n",
    "\n",
    "df = df.applymap(lambda x: str(x))\n",
    "\n",
    "df['text'] = df['states']+'<br>'+'Population studied: '+df['Population1']+'<br>'+'Total Crimes: '+df['total_crimes']+\\\n",
    "    '<br>'+'Percentage arrests for fraud: '+df['%est.Caught']+'<br>'+'Arrests for fraud: '+df['fraud_count']\n",
    "\n",
    "\n",
    "df.head()"
   ]
  },
  {
   "cell_type": "code",
   "execution_count": 3,
   "metadata": {},
   "outputs": [
    {
     "data": {
      "text/plain": [
       "'0.16661'"
      ]
     },
     "execution_count": 3,
     "metadata": {},
     "output_type": "execute_result"
    }
   ],
   "source": [
    "max(df['fraud_prob'])"
   ]
  },
  {
   "cell_type": "code",
   "execution_count": 7,
   "metadata": {},
   "outputs": [
    {
     "data": {
      "text/html": [
       "<iframe id=\"igraph\" scrolling=\"no\" style=\"border:none;\" seamless=\"seamless\" src=\"https://plot.ly/~JKGProfessional/2.embed\" height=\"525px\" width=\"100%\"></iframe>"
      ],
      "text/plain": [
       "<plotly.tools.PlotlyDisplay object>"
      ]
     },
     "execution_count": 7,
     "metadata": {},
     "output_type": "execute_result"
    }
   ],
   "source": [
    "import plotly.plotly as py\n",
    "import plotly.graph_objs as go\n",
    "from plotly_api_key import plotly_api_key\n",
    "\n",
    "import plotly \n",
    "plotly.tools.set_credentials_file(username='JKGProfessional', api_key=plotly_api_key)\n",
    "\n",
    "scl1 = [\n",
    "    [0.0, 'rgb(242,240,247)'],\n",
    "    [0.2, 'rgb(218,218,235)'],\n",
    "    [0.4, 'rgb(188,189,220)'],\n",
    "    [0.6, 'rgb(158,154,200)'],\n",
    "    [0.8, 'rgb(117,107,177)'],\n",
    "    [1.0, 'rgb(84,39,143)']\n",
    "]\n",
    "\n",
    "\n",
    "data1 = [go.Choropleth(\n",
    "    colorscale = scl1,\n",
    "    autocolorscale = False,\n",
    "    locations = df['state_code'],\n",
    "    z = df['fraud_prob'].astype(float),\n",
    "    locationmode = 'USA-states',\n",
    "    text = df['text'],\n",
    "    marker = go.choropleth.Marker(\n",
    "        line = go.choropleth.marker.Line(\n",
    "            color = 'rgb(255,255,255)',\n",
    "            width = 2\n",
    "        )),\n",
    "    colorbar = go.choropleth.ColorBar(\n",
    "        title = \"Probability of fraud per person\")\n",
    ")]\n",
    "\n",
    "layout1 = go.Layout(\n",
    "    title = go.layout.Title(\n",
    "        text = '2015 Fraud probability by State'\n",
    "    ),\n",
    "    geo = go.layout.Geo(\n",
    "        scope = 'usa',\n",
    "        projection = go.layout.geo.Projection(type = 'albers usa'),\n",
    "        showlakes = True,\n",
    "        lakecolor = 'rgb(255, 255, 255)'),\n",
    ")\n",
    "\n",
    "fig1 = go.Figure(data = data1, layout = layout1)\n",
    "plotly.offline.plot(fig1, filename='Probability_by_state.html',include_plotlyjs=True, output_type='div')\n",
    "py.iplot(fig1, filename = 'Probability_by_state')"
   ]
  },
  {
   "cell_type": "code",
   "execution_count": 3,
   "metadata": {},
   "outputs": [
    {
     "data": {
      "text/html": [
       "<iframe id=\"igraph\" scrolling=\"no\" style=\"border:none;\" seamless=\"seamless\" src=\"https://plot.ly/~JKGProfessional/4.embed\" height=\"525px\" width=\"100%\"></iframe>"
      ],
      "text/plain": [
       "<plotly.tools.PlotlyDisplay object>"
      ]
     },
     "execution_count": 3,
     "metadata": {},
     "output_type": "execute_result"
    }
   ],
   "source": [
    "import plotly.plotly as py\n",
    "import plotly.graph_objs as go\n",
    "from plotly_api_key import plotly_api_key\n",
    "\n",
    "import plotly \n",
    "plotly.tools.set_credentials_file(username='JKGProfessional', api_key=plotly_api_key)\n",
    "\n",
    "\n",
    "\n",
    "scl2 = [\n",
    "    [0.0, 'rgb(200,240,247)'],\n",
    "    [0.2, 'rgb(170,218,235)'],\n",
    "    [0.4, 'rgb(140,189,220)'],\n",
    "    [0.6, 'rgb(110,154,200)'],\n",
    "    [0.8, 'rgb(80,107,177)'],\n",
    "    [1.0, 'rgb(50,39,143)']\n",
    "]\n",
    "\n",
    "\n",
    "\n",
    "\n",
    "data2 = [go.Choropleth(\n",
    "    colorscale = scl2,\n",
    "    autocolorscale = False,\n",
    "    locations = df['state_code'],\n",
    "    z = df['%est.Caught'].astype(float),\n",
    "    locationmode = 'USA-states',\n",
    "    text = df['text'],\n",
    "    marker = go.choropleth.Marker(\n",
    "        line = go.choropleth.marker.Line(\n",
    "            color = 'rgb(255,255,255)',\n",
    "            width = 2\n",
    "        )),\n",
    "    colorbar = go.choropleth.ColorBar(\n",
    "        title = \"\")\n",
    ")]\n",
    "\n",
    "layout2 = go.Layout(\n",
    "    title = go.layout.Title(\n",
    "        text = '2015 Percentage of fraud crimes that lead to an arrest by State'\n",
    "    ),\n",
    "    geo = go.layout.Geo(\n",
    "        scope = 'usa',\n",
    "        projection = go.layout.geo.Projection(type = 'albers usa'),\n",
    "        showlakes = True,\n",
    "        lakecolor = 'rgb(255, 255, 255)'),\n",
    ")\n",
    "\n",
    "fig2 = go.Figure(data = data2, layout = layout2)\n",
    "plotly.offline.plot(fig2, filename='percent_caught_by_state.html',include_plotlyjs=True, output_type='div')\n",
    "py.iplot(fig2, filename = '%caught_by_state')"
   ]
  },
  {
   "cell_type": "markdown",
   "metadata": {},
   "source": [
    "Embedd into HTML:\n",
    "    http://www.kellieottoboni.com/posts/2017/08/plotly-markup/"
   ]
  },
  {
   "cell_type": "code",
   "execution_count": 3,
   "metadata": {},
   "outputs": [
    {
     "data": {
      "text/html": [
       "<iframe id=\"igraph\" scrolling=\"no\" style=\"border:none;\" seamless=\"seamless\" src=\"https://plot.ly/~JKGProfessional/6.embed\" height=\"525px\" width=\"100%\"></iframe>"
      ],
      "text/plain": [
       "<plotly.tools.PlotlyDisplay object>"
      ]
     },
     "execution_count": 3,
     "metadata": {},
     "output_type": "execute_result"
    }
   ],
   "source": [
    "import plotly.plotly as py\n",
    "import plotly.graph_objs as go\n",
    "from plotly_api_key import plotly_api_key\n",
    "\n",
    "import plotly \n",
    "plotly.tools.set_credentials_file(username='JKGProfessional', api_key=plotly_api_key)\n",
    "\n",
    "\n",
    "\n",
    "scl3 = [\n",
    "    [0.0, 'rgb(400,240,247)'],\n",
    "    [0.2, 'rgb(370,218,235)'],\n",
    "    [0.4, 'rgb(340,189,220)'],\n",
    "    [0.6, 'rgb(310,154,200)'],\n",
    "    [0.8, 'rgb(280,107,177)'],\n",
    "    [1.0, 'rgb(250,39,143)']\n",
    "]\n",
    "\n",
    "\n",
    "\n",
    "\n",
    "data3 = [go.Choropleth(\n",
    "    colorscale = scl3,\n",
    "    autocolorscale = False,\n",
    "    locations = df['state_code'],\n",
    "    z = df['crime_prob'].astype(float),\n",
    "    locationmode = 'USA-states',\n",
    "    text = df['text'],\n",
    "    marker = go.choropleth.Marker(\n",
    "        line = go.choropleth.marker.Line(\n",
    "            color = 'rgb(255,255,255)',\n",
    "            width = 2\n",
    "        )),\n",
    "    colorbar = go.choropleth.ColorBar(\n",
    "        title = \"Probability of crime per person\")\n",
    ")]\n",
    "\n",
    "layout3 = go.Layout(\n",
    "    title = go.layout.Title(\n",
    "        text = '2015 Crime probability by state'\n",
    "    ),\n",
    "    geo = go.layout.Geo(\n",
    "        scope = 'usa',\n",
    "        projection = go.layout.geo.Projection(type = 'albers usa'),\n",
    "        showlakes = True,\n",
    "        lakecolor = 'rgb(255, 255, 255)'),\n",
    ")\n",
    "\n",
    "fig3 = go.Figure(data = data3, layout = layout3)\n",
    "plotly.offline.plot(fig3, filename='Probability_of_crime_by_state.html',include_plotlyjs=True, output_type='div')\n",
    "py.iplot(fig3, filename = 'Probability_of_crime_by_state.html')"
   ]
  },
  {
   "cell_type": "code",
   "execution_count": null,
   "metadata": {},
   "outputs": [],
   "source": []
  }
 ],
 "metadata": {
  "kernelspec": {
   "display_name": "Python 3",
   "language": "python",
   "name": "python3"
  },
  "language_info": {
   "codemirror_mode": {
    "name": "ipython",
    "version": 3
   },
   "file_extension": ".py",
   "mimetype": "text/x-python",
   "name": "python",
   "nbconvert_exporter": "python",
   "pygments_lexer": "ipython3",
   "version": "3.6.7"
  }
 },
 "nbformat": 4,
 "nbformat_minor": 2
}
